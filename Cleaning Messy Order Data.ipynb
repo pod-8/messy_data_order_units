{
 "cells": [
  {
   "cell_type": "markdown",
   "metadata": {},
   "source": [
    "# Supercharge Your Excel Data Cleaning with Python!\n",
    "\n",
    "This notebook explores how to use python in conjunction with Excel to carry out basic cleaning activities.  \n",
    "The supporting article for this notebook can be found here: [Supercharge Your Excel Data Cleaning with Python!\n",
    "](www.bbc.co.uk) \n"
   ]
  },
  {
   "cell_type": "code",
   "execution_count": 1,
   "metadata": {},
   "outputs": [],
   "source": [
    "# Import packages required\n",
    "import pandas as pd"
   ]
  },
  {
   "cell_type": "markdown",
   "metadata": {},
   "source": [
    "## Cleaning The Order Data "
   ]
  },
  {
   "cell_type": "markdown",
   "metadata": {},
   "source": [
    "This is a hypothetical example and data has been fabricated to help us understand how to approach cleansing tasks.  \n",
    "\n",
    "We wish to understand the total volume and value of orders by customer and have copied our recent order data in to Excel from our system.\n",
    "We can see that we have a clean volume of orders, however the unit value has not copied in correctly.  We will use python to cleanse this issue and return a clean numerical value back to Excel to enable the requested analysis to be completed.\n",
    "\n",
    "We will follow the three step process set out in the supporting article to cary out this data cleanse:\n",
    "\n",
    "1.\tImport data to python from Excel.\n",
    "2.\tCary out cleaning tasks in python.\n",
    "3.\tExport data from python back to Excel.\n"
   ]
  },
  {
   "cell_type": "markdown",
   "metadata": {},
   "source": [
    "### Step 1: Import Data to Python From Excel\n",
    "\n",
    "This uses the pandas ```read_excel``` function.  The ```sheet_name``` variable is optional in this function, however it is recommended you assign a sheet to limit issues when importing data from files with multiple sheets.\n",
    "\n",
    "Your import file will need to be closed when you run this code and by importing this from a file into python, you maintain a copy of the original data in the Excel file.\n"
   ]
  },
  {
   "cell_type": "code",
   "execution_count": 2,
   "metadata": {},
   "outputs": [],
   "source": [
    "# Import messy data from Excel and assign to the mesy_data variabe as a data frame\n",
    "messy_data = pd.read_excel('messy_order_data.xlsx', sheet_name='Sheet1')"
   ]
  },
  {
   "cell_type": "code",
   "execution_count": 3,
   "metadata": {},
   "outputs": [
    {
     "data": {
      "text/html": [
       "<div>\n",
       "<style scoped>\n",
       "    .dataframe tbody tr th:only-of-type {\n",
       "        vertical-align: middle;\n",
       "    }\n",
       "\n",
       "    .dataframe tbody tr th {\n",
       "        vertical-align: top;\n",
       "    }\n",
       "\n",
       "    .dataframe thead th {\n",
       "        text-align: right;\n",
       "    }\n",
       "</style>\n",
       "<table border=\"1\" class=\"dataframe\">\n",
       "  <thead>\n",
       "    <tr style=\"text-align: right;\">\n",
       "      <th></th>\n",
       "      <th>Order Number</th>\n",
       "      <th>Customer</th>\n",
       "      <th>Units Ordered</th>\n",
       "      <th>Price Per Unit</th>\n",
       "    </tr>\n",
       "  </thead>\n",
       "  <tbody>\n",
       "    <tr>\n",
       "      <th>0</th>\n",
       "      <td>ORDER-01</td>\n",
       "      <td>CUSTOMER-2</td>\n",
       "      <td>149</td>\n",
       "      <td>£---1,054</td>\n",
       "    </tr>\n",
       "    <tr>\n",
       "      <th>1</th>\n",
       "      <td>ORDER-02</td>\n",
       "      <td>CUSTOMER-2</td>\n",
       "      <td>146</td>\n",
       "      <td>£---1,629</td>\n",
       "    </tr>\n",
       "    <tr>\n",
       "      <th>2</th>\n",
       "      <td>ORDER-03</td>\n",
       "      <td>CUSTOMER-3</td>\n",
       "      <td>103</td>\n",
       "      <td>£---1,606</td>\n",
       "    </tr>\n",
       "    <tr>\n",
       "      <th>3</th>\n",
       "      <td>ORDER-04</td>\n",
       "      <td>CUSTOMER-4</td>\n",
       "      <td>115</td>\n",
       "      <td>£---1,201</td>\n",
       "    </tr>\n",
       "    <tr>\n",
       "      <th>4</th>\n",
       "      <td>ORDER-05</td>\n",
       "      <td>CUSTOMER-2</td>\n",
       "      <td>150</td>\n",
       "      <td>£---1,434</td>\n",
       "    </tr>\n",
       "  </tbody>\n",
       "</table>\n",
       "</div>"
      ],
      "text/plain": [
       "  Order Number    Customer  Units Ordered Price Per Unit\n",
       "0     ORDER-01  CUSTOMER-2            149      £---1,054\n",
       "1     ORDER-02  CUSTOMER-2            146      £---1,629\n",
       "2     ORDER-03  CUSTOMER-3            103      £---1,606\n",
       "3     ORDER-04  CUSTOMER-4            115      £---1,201\n",
       "4     ORDER-05  CUSTOMER-2            150      £---1,434"
      ]
     },
     "execution_count": 3,
     "metadata": {},
     "output_type": "execute_result"
    }
   ],
   "source": [
    "# Display head of messy_ data on screen\n",
    "messy_data.head()"
   ]
  },
  {
   "cell_type": "markdown",
   "metadata": {},
   "source": [
    "### Step 2: Cary Out Cleaning Tasks in Python.\n",
    "\n",
    "Looking at the data we can see that there are three cleansing tasks we need to complete\n",
    "\n",
    "1.\tRemove the ‘,’ from the Price Per Unit values\n",
    "2.\tRemove the ‘£---’ from the Price Per unit Values\n",
    "3.\tEnsure the Values are numerical (not text)\n",
    "\n",
    "The latter may not be obvious; however we can see by exploring the data type of the Price Per Unit variable (a pandas data series) after steps 1 and 2, we can see it is an object.  This will be treated as text when re export the data to Excel.\n",
    "\n",
    "\n",
    "To find and replace characters within the string values of a pandas data series, we use the ```str.replace()``` function.  [Function documentation can be found here](https://pandas.pydata.org/docs/reference/api/pandas.Series.str.replace.html)\n"
   ]
  },
  {
   "cell_type": "code",
   "execution_count": 4,
   "metadata": {},
   "outputs": [
    {
     "data": {
      "text/html": [
       "<div>\n",
       "<style scoped>\n",
       "    .dataframe tbody tr th:only-of-type {\n",
       "        vertical-align: middle;\n",
       "    }\n",
       "\n",
       "    .dataframe tbody tr th {\n",
       "        vertical-align: top;\n",
       "    }\n",
       "\n",
       "    .dataframe thead th {\n",
       "        text-align: right;\n",
       "    }\n",
       "</style>\n",
       "<table border=\"1\" class=\"dataframe\">\n",
       "  <thead>\n",
       "    <tr style=\"text-align: right;\">\n",
       "      <th></th>\n",
       "      <th>Order Number</th>\n",
       "      <th>Customer</th>\n",
       "      <th>Units Ordered</th>\n",
       "      <th>Price Per Unit</th>\n",
       "    </tr>\n",
       "  </thead>\n",
       "  <tbody>\n",
       "    <tr>\n",
       "      <th>0</th>\n",
       "      <td>ORDER-01</td>\n",
       "      <td>CUSTOMER-2</td>\n",
       "      <td>149</td>\n",
       "      <td>£---1054</td>\n",
       "    </tr>\n",
       "    <tr>\n",
       "      <th>1</th>\n",
       "      <td>ORDER-02</td>\n",
       "      <td>CUSTOMER-2</td>\n",
       "      <td>146</td>\n",
       "      <td>£---1629</td>\n",
       "    </tr>\n",
       "    <tr>\n",
       "      <th>2</th>\n",
       "      <td>ORDER-03</td>\n",
       "      <td>CUSTOMER-3</td>\n",
       "      <td>103</td>\n",
       "      <td>£---1606</td>\n",
       "    </tr>\n",
       "    <tr>\n",
       "      <th>3</th>\n",
       "      <td>ORDER-04</td>\n",
       "      <td>CUSTOMER-4</td>\n",
       "      <td>115</td>\n",
       "      <td>£---1201</td>\n",
       "    </tr>\n",
       "    <tr>\n",
       "      <th>4</th>\n",
       "      <td>ORDER-05</td>\n",
       "      <td>CUSTOMER-2</td>\n",
       "      <td>150</td>\n",
       "      <td>£---1434</td>\n",
       "    </tr>\n",
       "  </tbody>\n",
       "</table>\n",
       "</div>"
      ],
      "text/plain": [
       "  Order Number    Customer  Units Ordered Price Per Unit\n",
       "0     ORDER-01  CUSTOMER-2            149       £---1054\n",
       "1     ORDER-02  CUSTOMER-2            146       £---1629\n",
       "2     ORDER-03  CUSTOMER-3            103       £---1606\n",
       "3     ORDER-04  CUSTOMER-4            115       £---1201\n",
       "4     ORDER-05  CUSTOMER-2            150       £---1434"
      ]
     },
     "execution_count": 4,
     "metadata": {},
     "output_type": "execute_result"
    }
   ],
   "source": [
    "# Cleaning step 1: Remove ',' from the values and replace with ''\n",
    "messy_data['Price Per Unit'] = messy_data['Price Per Unit'].str.replace(',','')\n",
    "\n",
    "# Display head of messy_ data on screen\n",
    "messy_data.head()"
   ]
  },
  {
   "cell_type": "code",
   "execution_count": 5,
   "metadata": {},
   "outputs": [
    {
     "data": {
      "text/html": [
       "<div>\n",
       "<style scoped>\n",
       "    .dataframe tbody tr th:only-of-type {\n",
       "        vertical-align: middle;\n",
       "    }\n",
       "\n",
       "    .dataframe tbody tr th {\n",
       "        vertical-align: top;\n",
       "    }\n",
       "\n",
       "    .dataframe thead th {\n",
       "        text-align: right;\n",
       "    }\n",
       "</style>\n",
       "<table border=\"1\" class=\"dataframe\">\n",
       "  <thead>\n",
       "    <tr style=\"text-align: right;\">\n",
       "      <th></th>\n",
       "      <th>Order Number</th>\n",
       "      <th>Customer</th>\n",
       "      <th>Units Ordered</th>\n",
       "      <th>Price Per Unit</th>\n",
       "    </tr>\n",
       "  </thead>\n",
       "  <tbody>\n",
       "    <tr>\n",
       "      <th>0</th>\n",
       "      <td>ORDER-01</td>\n",
       "      <td>CUSTOMER-2</td>\n",
       "      <td>149</td>\n",
       "      <td>1054</td>\n",
       "    </tr>\n",
       "    <tr>\n",
       "      <th>1</th>\n",
       "      <td>ORDER-02</td>\n",
       "      <td>CUSTOMER-2</td>\n",
       "      <td>146</td>\n",
       "      <td>1629</td>\n",
       "    </tr>\n",
       "    <tr>\n",
       "      <th>2</th>\n",
       "      <td>ORDER-03</td>\n",
       "      <td>CUSTOMER-3</td>\n",
       "      <td>103</td>\n",
       "      <td>1606</td>\n",
       "    </tr>\n",
       "    <tr>\n",
       "      <th>3</th>\n",
       "      <td>ORDER-04</td>\n",
       "      <td>CUSTOMER-4</td>\n",
       "      <td>115</td>\n",
       "      <td>1201</td>\n",
       "    </tr>\n",
       "    <tr>\n",
       "      <th>4</th>\n",
       "      <td>ORDER-05</td>\n",
       "      <td>CUSTOMER-2</td>\n",
       "      <td>150</td>\n",
       "      <td>1434</td>\n",
       "    </tr>\n",
       "  </tbody>\n",
       "</table>\n",
       "</div>"
      ],
      "text/plain": [
       "  Order Number    Customer  Units Ordered Price Per Unit\n",
       "0     ORDER-01  CUSTOMER-2            149           1054\n",
       "1     ORDER-02  CUSTOMER-2            146           1629\n",
       "2     ORDER-03  CUSTOMER-3            103           1606\n",
       "3     ORDER-04  CUSTOMER-4            115           1201\n",
       "4     ORDER-05  CUSTOMER-2            150           1434"
      ]
     },
     "execution_count": 5,
     "metadata": {},
     "output_type": "execute_result"
    }
   ],
   "source": [
    "# Cleaning Step 2: Remove '£---' from the values and replace with ''\n",
    "messy_data['Price Per Unit'] = messy_data['Price Per Unit'].str.replace('£---','')\n",
    "\n",
    "# Display head of messy_ data on screen\n",
    "messy_data.head()"
   ]
  },
  {
   "cell_type": "markdown",
   "metadata": {},
   "source": [
    "If we look at the data type (dtype) of the Price Per Unit variable, we can see that it is an object.  To change this to a numerical value, we can use the ```astype()``` function.  As unit price can contain a decimal place, we will change this to a float. [Function documentation can be found here](https://pandas.pydata.org/docs/reference/api/pandas.DataFrame.astype.html)\n",
    "\n",
    "\n",
    "The process of changing a variable type is called coercion.  This can result in errors if Python does not know how to manage a value with the new data type.  This example has been constructed to not have any coercion errors.  However, you should check to confirm that this is the case when changing variable types.\n"
   ]
  },
  {
   "cell_type": "code",
   "execution_count": 6,
   "metadata": {},
   "outputs": [
    {
     "name": "stdout",
     "output_type": "stream",
     "text": [
      "Data type of Price Per Unit (pre coercion):\t object\n",
      "Data type of Price Per Unit (post coercion):\t float64\n"
     ]
    }
   ],
   "source": [
    "# Print dtype of Price Per Unit\n",
    "print('Data type of Price Per Unit (pre coercion):\\t',messy_data['Price Per Unit'].dtype)\n",
    "\n",
    "# Cleaning Step 3: Coerce Price Per Unit to be a float \n",
    "messy_data['Price Per Unit'] = messy_data['Price Per Unit'].astype(float)\n",
    "\n",
    "# Print dtype of Price Per Unit\n",
    "print('Data type of Price Per Unit (post coercion):\\t',messy_data['Price Per Unit'].dtype)"
   ]
  },
  {
   "cell_type": "markdown",
   "metadata": {},
   "source": [
    "### Step 3: Export Data From Python Back to Excel.\n",
    "\n",
    "To export data back to excel, we use the ```to_excel()``` function. [Function documentation can be found here](https://pandas.pydata.org/docs/reference/api/pandas.DataFrame.to_excel.html)  By exporting the data back to excel with a new file name, we do not over write the original data."
   ]
  },
  {
   "cell_type": "code",
   "execution_count": 7,
   "metadata": {},
   "outputs": [],
   "source": [
    "# Export data back to excel (index = False ensures the pandas indicies are not exported to excel)\n",
    "messy_data.to_excel('clean_order_data.xlsx',index=False)"
   ]
  },
  {
   "cell_type": "markdown",
   "metadata": {},
   "source": [
    "## A More Pythonic Way To Implement The Code\n",
    "\n",
    "In the example above, we have implemented each cleaning step in a line of code.  It is worth noting that this cleansing activity can be collapsed into a single line of code with minimal function calls.  This would be considered a more pythonic way of implementing the code.  This process also uses Regular Expressions (REGEX) something we will cover in articles later in this series.  \n",
    "\n",
    "This example is included for information at this stage"
   ]
  },
  {
   "cell_type": "code",
   "execution_count": 8,
   "metadata": {},
   "outputs": [],
   "source": [
    "# Import messy data from Excel and assign to the mesy_data variabe as a data frame\n",
    "messy_data_pythonic = pd.read_excel('messy_order_data.xlsx', sheet_name='Sheet1')\n",
    "\n",
    "# Implement cleaning activity in a single line of code (note \\ indicates a split of a single line on to multiple lines in the editor)\n",
    "messy_data_pythonic['Price Per Unit'] = messy_data_pythonic['Price Per Unit']\\\n",
    "    .str.replace('£---|,','', regex=True).astype(float).to_excel('clean_data_pythonic.xlsx',index=False)"
   ]
  },
  {
   "cell_type": "markdown",
   "metadata": {},
   "source": []
  }
 ],
 "metadata": {
  "kernelspec": {
   "display_name": "base",
   "language": "python",
   "name": "python3"
  },
  "language_info": {
   "codemirror_mode": {
    "name": "ipython",
    "version": 3
   },
   "file_extension": ".py",
   "mimetype": "text/x-python",
   "name": "python",
   "nbconvert_exporter": "python",
   "pygments_lexer": "ipython3",
   "version": "3.11.3"
  },
  "orig_nbformat": 4
 },
 "nbformat": 4,
 "nbformat_minor": 2
}
